{
 "cells": [
  {
   "cell_type": "markdown",
   "id": "4278e386",
   "metadata": {},
   "source": [
    "스크립트 설명서\n",
    "\n"
   ]
  },
  {
   "cell_type": "code",
   "execution_count": 2,
   "id": "5c552f32",
   "metadata": {},
   "outputs": [],
   "source": [
    "import sys\n",
    "import os\n",
    "\n",
    "# src 디렉토리 경로를 추가\n",
    "sys.path.append(os.path.abspath(os.path.join(os.getcwd(), 'src')))"
   ]
  },
  {
   "cell_type": "code",
   "execution_count": null,
   "id": "c40fa91b",
   "metadata": {},
   "outputs": [],
   "source": [
    "# base\n",
    "import pandas as pd\n",
    "import numpy as np\n",
    "import re\n",
    "\n",
    "# time \n",
    "from dateutil import parser\n",
    "from datetime import datetime, timezone, timedelta\n",
    "\n",
    "# module\n",
    "from src.auto_mail_prep import apply_fuc_email_dataframe\n",
    "from src.claim_algorithm import parse_email_subjects"
   ]
  },
  {
   "cell_type": "code",
   "execution_count": 12,
   "id": "a6c8e14f",
   "metadata": {},
   "outputs": [],
   "source": [
    "file_path = r\"C:\\Users\\pc021\\Desktop\\digital_claim\\data\\closing claim (S1756) Unity Neptune - BWTS issues.txt\"\n",
    "email_data = apply_fuc_email_dataframe(file_path)"
   ]
  }
 ],
 "metadata": {
  "kernelspec": {
   "display_name": "Python (digital_claim_kernel)",
   "language": "python",
   "name": "digital_claim_env"
  },
  "language_info": {
   "codemirror_mode": {
    "name": "ipython",
    "version": 3
   },
   "file_extension": ".py",
   "mimetype": "text/x-python",
   "name": "python",
   "nbconvert_exporter": "python",
   "pygments_lexer": "ipython3",
   "version": "3.8.10"
  }
 },
 "nbformat": 4,
 "nbformat_minor": 5
}
